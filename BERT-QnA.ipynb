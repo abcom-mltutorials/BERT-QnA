{
  "nbformat": 4,
  "nbformat_minor": 0,
  "metadata": {
    "colab": {
      "name": "Vijay Copy of BERT_QnA_Final - Version II.ipynb",
      "provenance": [],
      "collapsed_sections": [],
      "toc_visible": true
    },
    "kernelspec": {
      "name": "python3",
      "display_name": "Python 3"
    },
    "accelerator": "GPU",
    "widgets": {
      "application/vnd.jupyter.widget-state+json": {
        "0f705f7d350f4876944969f26f6ba38a": {
          "model_module": "@jupyter-widgets/controls",
          "model_name": "HBoxModel",
          "state": {
            "_view_name": "HBoxView",
            "_dom_classes": [],
            "_model_name": "HBoxModel",
            "_view_module": "@jupyter-widgets/controls",
            "_model_module_version": "1.5.0",
            "_view_count": null,
            "_view_module_version": "1.5.0",
            "box_style": "",
            "layout": "IPY_MODEL_fb12d4a5dca54f979dc289b374f83d7f",
            "_model_module": "@jupyter-widgets/controls",
            "children": [
              "IPY_MODEL_424f92264c414b1291de3dc684969c78",
              "IPY_MODEL_d2d2068eaa1443ff87088c87eda424f2"
            ]
          }
        },
        "fb12d4a5dca54f979dc289b374f83d7f": {
          "model_module": "@jupyter-widgets/base",
          "model_name": "LayoutModel",
          "state": {
            "_view_name": "LayoutView",
            "grid_template_rows": null,
            "right": null,
            "justify_content": null,
            "_view_module": "@jupyter-widgets/base",
            "overflow": null,
            "_model_module_version": "1.2.0",
            "_view_count": null,
            "flex_flow": null,
            "width": null,
            "min_width": null,
            "border": null,
            "align_items": null,
            "bottom": null,
            "_model_module": "@jupyter-widgets/base",
            "top": null,
            "grid_column": null,
            "overflow_y": null,
            "overflow_x": null,
            "grid_auto_flow": null,
            "grid_area": null,
            "grid_template_columns": null,
            "flex": null,
            "_model_name": "LayoutModel",
            "justify_items": null,
            "grid_row": null,
            "max_height": null,
            "align_content": null,
            "visibility": null,
            "align_self": null,
            "height": null,
            "min_height": null,
            "padding": null,
            "grid_auto_rows": null,
            "grid_gap": null,
            "max_width": null,
            "order": null,
            "_view_module_version": "1.2.0",
            "grid_template_areas": null,
            "object_position": null,
            "object_fit": null,
            "grid_auto_columns": null,
            "margin": null,
            "display": null,
            "left": null
          }
        },
        "424f92264c414b1291de3dc684969c78": {
          "model_module": "@jupyter-widgets/controls",
          "model_name": "FloatProgressModel",
          "state": {
            "_view_name": "ProgressView",
            "style": "IPY_MODEL_99fddcf9d3a2442eb16a7fcd9cb21608",
            "_dom_classes": [],
            "description": "Downloading: 100%",
            "_model_name": "FloatProgressModel",
            "bar_style": "success",
            "max": 231508,
            "_view_module": "@jupyter-widgets/controls",
            "_model_module_version": "1.5.0",
            "value": 231508,
            "_view_count": null,
            "_view_module_version": "1.5.0",
            "orientation": "horizontal",
            "min": 0,
            "description_tooltip": null,
            "_model_module": "@jupyter-widgets/controls",
            "layout": "IPY_MODEL_c79180ed7e0c46edafd331a3389ed1a7"
          }
        },
        "d2d2068eaa1443ff87088c87eda424f2": {
          "model_module": "@jupyter-widgets/controls",
          "model_name": "HTMLModel",
          "state": {
            "_view_name": "HTMLView",
            "style": "IPY_MODEL_bbd7c51f343440e0aea17bdbb205451c",
            "_dom_classes": [],
            "description": "",
            "_model_name": "HTMLModel",
            "placeholder": "​",
            "_view_module": "@jupyter-widgets/controls",
            "_model_module_version": "1.5.0",
            "value": " 232k/232k [00:00&lt;00:00, 779kB/s]",
            "_view_count": null,
            "_view_module_version": "1.5.0",
            "description_tooltip": null,
            "_model_module": "@jupyter-widgets/controls",
            "layout": "IPY_MODEL_ce4d1985d43a464fb13d0f3da620deeb"
          }
        },
        "99fddcf9d3a2442eb16a7fcd9cb21608": {
          "model_module": "@jupyter-widgets/controls",
          "model_name": "ProgressStyleModel",
          "state": {
            "_view_name": "StyleView",
            "_model_name": "ProgressStyleModel",
            "description_width": "initial",
            "_view_module": "@jupyter-widgets/base",
            "_model_module_version": "1.5.0",
            "_view_count": null,
            "_view_module_version": "1.2.0",
            "bar_color": null,
            "_model_module": "@jupyter-widgets/controls"
          }
        },
        "c79180ed7e0c46edafd331a3389ed1a7": {
          "model_module": "@jupyter-widgets/base",
          "model_name": "LayoutModel",
          "state": {
            "_view_name": "LayoutView",
            "grid_template_rows": null,
            "right": null,
            "justify_content": null,
            "_view_module": "@jupyter-widgets/base",
            "overflow": null,
            "_model_module_version": "1.2.0",
            "_view_count": null,
            "flex_flow": null,
            "width": null,
            "min_width": null,
            "border": null,
            "align_items": null,
            "bottom": null,
            "_model_module": "@jupyter-widgets/base",
            "top": null,
            "grid_column": null,
            "overflow_y": null,
            "overflow_x": null,
            "grid_auto_flow": null,
            "grid_area": null,
            "grid_template_columns": null,
            "flex": null,
            "_model_name": "LayoutModel",
            "justify_items": null,
            "grid_row": null,
            "max_height": null,
            "align_content": null,
            "visibility": null,
            "align_self": null,
            "height": null,
            "min_height": null,
            "padding": null,
            "grid_auto_rows": null,
            "grid_gap": null,
            "max_width": null,
            "order": null,
            "_view_module_version": "1.2.0",
            "grid_template_areas": null,
            "object_position": null,
            "object_fit": null,
            "grid_auto_columns": null,
            "margin": null,
            "display": null,
            "left": null
          }
        },
        "bbd7c51f343440e0aea17bdbb205451c": {
          "model_module": "@jupyter-widgets/controls",
          "model_name": "DescriptionStyleModel",
          "state": {
            "_view_name": "StyleView",
            "_model_name": "DescriptionStyleModel",
            "description_width": "",
            "_view_module": "@jupyter-widgets/base",
            "_model_module_version": "1.5.0",
            "_view_count": null,
            "_view_module_version": "1.2.0",
            "_model_module": "@jupyter-widgets/controls"
          }
        },
        "ce4d1985d43a464fb13d0f3da620deeb": {
          "model_module": "@jupyter-widgets/base",
          "model_name": "LayoutModel",
          "state": {
            "_view_name": "LayoutView",
            "grid_template_rows": null,
            "right": null,
            "justify_content": null,
            "_view_module": "@jupyter-widgets/base",
            "overflow": null,
            "_model_module_version": "1.2.0",
            "_view_count": null,
            "flex_flow": null,
            "width": null,
            "min_width": null,
            "border": null,
            "align_items": null,
            "bottom": null,
            "_model_module": "@jupyter-widgets/base",
            "top": null,
            "grid_column": null,
            "overflow_y": null,
            "overflow_x": null,
            "grid_auto_flow": null,
            "grid_area": null,
            "grid_template_columns": null,
            "flex": null,
            "_model_name": "LayoutModel",
            "justify_items": null,
            "grid_row": null,
            "max_height": null,
            "align_content": null,
            "visibility": null,
            "align_self": null,
            "height": null,
            "min_height": null,
            "padding": null,
            "grid_auto_rows": null,
            "grid_gap": null,
            "max_width": null,
            "order": null,
            "_view_module_version": "1.2.0",
            "grid_template_areas": null,
            "object_position": null,
            "object_fit": null,
            "grid_auto_columns": null,
            "margin": null,
            "display": null,
            "left": null
          }
        },
        "7558be5497814360a87404ac9fa62a69": {
          "model_module": "@jupyter-widgets/controls",
          "model_name": "HBoxModel",
          "state": {
            "_view_name": "HBoxView",
            "_dom_classes": [],
            "_model_name": "HBoxModel",
            "_view_module": "@jupyter-widgets/controls",
            "_model_module_version": "1.5.0",
            "_view_count": null,
            "_view_module_version": "1.5.0",
            "box_style": "",
            "layout": "IPY_MODEL_d25958ddba2041a78beb797a79e84f81",
            "_model_module": "@jupyter-widgets/controls",
            "children": [
              "IPY_MODEL_d185b04b8f3049de891a69db12a6b1d3",
              "IPY_MODEL_692623e62800494c9ed2e3b932eaeb06"
            ]
          }
        },
        "d25958ddba2041a78beb797a79e84f81": {
          "model_module": "@jupyter-widgets/base",
          "model_name": "LayoutModel",
          "state": {
            "_view_name": "LayoutView",
            "grid_template_rows": null,
            "right": null,
            "justify_content": null,
            "_view_module": "@jupyter-widgets/base",
            "overflow": null,
            "_model_module_version": "1.2.0",
            "_view_count": null,
            "flex_flow": null,
            "width": null,
            "min_width": null,
            "border": null,
            "align_items": null,
            "bottom": null,
            "_model_module": "@jupyter-widgets/base",
            "top": null,
            "grid_column": null,
            "overflow_y": null,
            "overflow_x": null,
            "grid_auto_flow": null,
            "grid_area": null,
            "grid_template_columns": null,
            "flex": null,
            "_model_name": "LayoutModel",
            "justify_items": null,
            "grid_row": null,
            "max_height": null,
            "align_content": null,
            "visibility": null,
            "align_self": null,
            "height": null,
            "min_height": null,
            "padding": null,
            "grid_auto_rows": null,
            "grid_gap": null,
            "max_width": null,
            "order": null,
            "_view_module_version": "1.2.0",
            "grid_template_areas": null,
            "object_position": null,
            "object_fit": null,
            "grid_auto_columns": null,
            "margin": null,
            "display": null,
            "left": null
          }
        },
        "d185b04b8f3049de891a69db12a6b1d3": {
          "model_module": "@jupyter-widgets/controls",
          "model_name": "FloatProgressModel",
          "state": {
            "_view_name": "ProgressView",
            "style": "IPY_MODEL_138a225f85944c10adce345b8c4c7178",
            "_dom_classes": [],
            "description": "Downloading: 100%",
            "_model_name": "FloatProgressModel",
            "bar_style": "success",
            "max": 443,
            "_view_module": "@jupyter-widgets/controls",
            "_model_module_version": "1.5.0",
            "value": 443,
            "_view_count": null,
            "_view_module_version": "1.5.0",
            "orientation": "horizontal",
            "min": 0,
            "description_tooltip": null,
            "_model_module": "@jupyter-widgets/controls",
            "layout": "IPY_MODEL_b22e82cc17c249e88ae884477633855e"
          }
        },
        "692623e62800494c9ed2e3b932eaeb06": {
          "model_module": "@jupyter-widgets/controls",
          "model_name": "HTMLModel",
          "state": {
            "_view_name": "HTMLView",
            "style": "IPY_MODEL_d19b3cb053fa4a198342625071ed5412",
            "_dom_classes": [],
            "description": "",
            "_model_name": "HTMLModel",
            "placeholder": "​",
            "_view_module": "@jupyter-widgets/controls",
            "_model_module_version": "1.5.0",
            "value": " 443/443 [00:17&lt;00:00, 25.5B/s]",
            "_view_count": null,
            "_view_module_version": "1.5.0",
            "description_tooltip": null,
            "_model_module": "@jupyter-widgets/controls",
            "layout": "IPY_MODEL_aa5ea9473daa4f2e8f8c73c139f87dd8"
          }
        },
        "138a225f85944c10adce345b8c4c7178": {
          "model_module": "@jupyter-widgets/controls",
          "model_name": "ProgressStyleModel",
          "state": {
            "_view_name": "StyleView",
            "_model_name": "ProgressStyleModel",
            "description_width": "initial",
            "_view_module": "@jupyter-widgets/base",
            "_model_module_version": "1.5.0",
            "_view_count": null,
            "_view_module_version": "1.2.0",
            "bar_color": null,
            "_model_module": "@jupyter-widgets/controls"
          }
        },
        "b22e82cc17c249e88ae884477633855e": {
          "model_module": "@jupyter-widgets/base",
          "model_name": "LayoutModel",
          "state": {
            "_view_name": "LayoutView",
            "grid_template_rows": null,
            "right": null,
            "justify_content": null,
            "_view_module": "@jupyter-widgets/base",
            "overflow": null,
            "_model_module_version": "1.2.0",
            "_view_count": null,
            "flex_flow": null,
            "width": null,
            "min_width": null,
            "border": null,
            "align_items": null,
            "bottom": null,
            "_model_module": "@jupyter-widgets/base",
            "top": null,
            "grid_column": null,
            "overflow_y": null,
            "overflow_x": null,
            "grid_auto_flow": null,
            "grid_area": null,
            "grid_template_columns": null,
            "flex": null,
            "_model_name": "LayoutModel",
            "justify_items": null,
            "grid_row": null,
            "max_height": null,
            "align_content": null,
            "visibility": null,
            "align_self": null,
            "height": null,
            "min_height": null,
            "padding": null,
            "grid_auto_rows": null,
            "grid_gap": null,
            "max_width": null,
            "order": null,
            "_view_module_version": "1.2.0",
            "grid_template_areas": null,
            "object_position": null,
            "object_fit": null,
            "grid_auto_columns": null,
            "margin": null,
            "display": null,
            "left": null
          }
        },
        "d19b3cb053fa4a198342625071ed5412": {
          "model_module": "@jupyter-widgets/controls",
          "model_name": "DescriptionStyleModel",
          "state": {
            "_view_name": "StyleView",
            "_model_name": "DescriptionStyleModel",
            "description_width": "",
            "_view_module": "@jupyter-widgets/base",
            "_model_module_version": "1.5.0",
            "_view_count": null,
            "_view_module_version": "1.2.0",
            "_model_module": "@jupyter-widgets/controls"
          }
        },
        "aa5ea9473daa4f2e8f8c73c139f87dd8": {
          "model_module": "@jupyter-widgets/base",
          "model_name": "LayoutModel",
          "state": {
            "_view_name": "LayoutView",
            "grid_template_rows": null,
            "right": null,
            "justify_content": null,
            "_view_module": "@jupyter-widgets/base",
            "overflow": null,
            "_model_module_version": "1.2.0",
            "_view_count": null,
            "flex_flow": null,
            "width": null,
            "min_width": null,
            "border": null,
            "align_items": null,
            "bottom": null,
            "_model_module": "@jupyter-widgets/base",
            "top": null,
            "grid_column": null,
            "overflow_y": null,
            "overflow_x": null,
            "grid_auto_flow": null,
            "grid_area": null,
            "grid_template_columns": null,
            "flex": null,
            "_model_name": "LayoutModel",
            "justify_items": null,
            "grid_row": null,
            "max_height": null,
            "align_content": null,
            "visibility": null,
            "align_self": null,
            "height": null,
            "min_height": null,
            "padding": null,
            "grid_auto_rows": null,
            "grid_gap": null,
            "max_width": null,
            "order": null,
            "_view_module_version": "1.2.0",
            "grid_template_areas": null,
            "object_position": null,
            "object_fit": null,
            "grid_auto_columns": null,
            "margin": null,
            "display": null,
            "left": null
          }
        },
        "68d6ee2375fb422a8153eda0f6bb0e6c": {
          "model_module": "@jupyter-widgets/controls",
          "model_name": "HBoxModel",
          "state": {
            "_view_name": "HBoxView",
            "_dom_classes": [],
            "_model_name": "HBoxModel",
            "_view_module": "@jupyter-widgets/controls",
            "_model_module_version": "1.5.0",
            "_view_count": null,
            "_view_module_version": "1.5.0",
            "box_style": "",
            "layout": "IPY_MODEL_a3a8ac2cd40143e0a7631f0a1a5c2fe6",
            "_model_module": "@jupyter-widgets/controls",
            "children": [
              "IPY_MODEL_60c775508e5f4e91807a4604b6dc5f3a",
              "IPY_MODEL_1083e18ce92444499c707aff78436375"
            ]
          }
        },
        "a3a8ac2cd40143e0a7631f0a1a5c2fe6": {
          "model_module": "@jupyter-widgets/base",
          "model_name": "LayoutModel",
          "state": {
            "_view_name": "LayoutView",
            "grid_template_rows": null,
            "right": null,
            "justify_content": null,
            "_view_module": "@jupyter-widgets/base",
            "overflow": null,
            "_model_module_version": "1.2.0",
            "_view_count": null,
            "flex_flow": null,
            "width": null,
            "min_width": null,
            "border": null,
            "align_items": null,
            "bottom": null,
            "_model_module": "@jupyter-widgets/base",
            "top": null,
            "grid_column": null,
            "overflow_y": null,
            "overflow_x": null,
            "grid_auto_flow": null,
            "grid_area": null,
            "grid_template_columns": null,
            "flex": null,
            "_model_name": "LayoutModel",
            "justify_items": null,
            "grid_row": null,
            "max_height": null,
            "align_content": null,
            "visibility": null,
            "align_self": null,
            "height": null,
            "min_height": null,
            "padding": null,
            "grid_auto_rows": null,
            "grid_gap": null,
            "max_width": null,
            "order": null,
            "_view_module_version": "1.2.0",
            "grid_template_areas": null,
            "object_position": null,
            "object_fit": null,
            "grid_auto_columns": null,
            "margin": null,
            "display": null,
            "left": null
          }
        },
        "60c775508e5f4e91807a4604b6dc5f3a": {
          "model_module": "@jupyter-widgets/controls",
          "model_name": "FloatProgressModel",
          "state": {
            "_view_name": "ProgressView",
            "style": "IPY_MODEL_4da2cab64bdd4c1c94d74d3e37a5021c",
            "_dom_classes": [],
            "description": "Downloading: 100%",
            "_model_name": "FloatProgressModel",
            "bar_style": "success",
            "max": 1341090760,
            "_view_module": "@jupyter-widgets/controls",
            "_model_module_version": "1.5.0",
            "value": 1341090760,
            "_view_count": null,
            "_view_module_version": "1.5.0",
            "orientation": "horizontal",
            "min": 0,
            "description_tooltip": null,
            "_model_module": "@jupyter-widgets/controls",
            "layout": "IPY_MODEL_46e22033630b46e9ad9717af4bee3927"
          }
        },
        "1083e18ce92444499c707aff78436375": {
          "model_module": "@jupyter-widgets/controls",
          "model_name": "HTMLModel",
          "state": {
            "_view_name": "HTMLView",
            "style": "IPY_MODEL_34cfbcb0482a44dcb83cdf6df8ed0ebe",
            "_dom_classes": [],
            "description": "",
            "_model_name": "HTMLModel",
            "placeholder": "​",
            "_view_module": "@jupyter-widgets/controls",
            "_model_module_version": "1.5.0",
            "value": " 1.34G/1.34G [00:16&lt;00:00, 79.2MB/s]",
            "_view_count": null,
            "_view_module_version": "1.5.0",
            "description_tooltip": null,
            "_model_module": "@jupyter-widgets/controls",
            "layout": "IPY_MODEL_b8707b63cac04b7a9b8ab0dada23022c"
          }
        },
        "4da2cab64bdd4c1c94d74d3e37a5021c": {
          "model_module": "@jupyter-widgets/controls",
          "model_name": "ProgressStyleModel",
          "state": {
            "_view_name": "StyleView",
            "_model_name": "ProgressStyleModel",
            "description_width": "initial",
            "_view_module": "@jupyter-widgets/base",
            "_model_module_version": "1.5.0",
            "_view_count": null,
            "_view_module_version": "1.2.0",
            "bar_color": null,
            "_model_module": "@jupyter-widgets/controls"
          }
        },
        "46e22033630b46e9ad9717af4bee3927": {
          "model_module": "@jupyter-widgets/base",
          "model_name": "LayoutModel",
          "state": {
            "_view_name": "LayoutView",
            "grid_template_rows": null,
            "right": null,
            "justify_content": null,
            "_view_module": "@jupyter-widgets/base",
            "overflow": null,
            "_model_module_version": "1.2.0",
            "_view_count": null,
            "flex_flow": null,
            "width": null,
            "min_width": null,
            "border": null,
            "align_items": null,
            "bottom": null,
            "_model_module": "@jupyter-widgets/base",
            "top": null,
            "grid_column": null,
            "overflow_y": null,
            "overflow_x": null,
            "grid_auto_flow": null,
            "grid_area": null,
            "grid_template_columns": null,
            "flex": null,
            "_model_name": "LayoutModel",
            "justify_items": null,
            "grid_row": null,
            "max_height": null,
            "align_content": null,
            "visibility": null,
            "align_self": null,
            "height": null,
            "min_height": null,
            "padding": null,
            "grid_auto_rows": null,
            "grid_gap": null,
            "max_width": null,
            "order": null,
            "_view_module_version": "1.2.0",
            "grid_template_areas": null,
            "object_position": null,
            "object_fit": null,
            "grid_auto_columns": null,
            "margin": null,
            "display": null,
            "left": null
          }
        },
        "34cfbcb0482a44dcb83cdf6df8ed0ebe": {
          "model_module": "@jupyter-widgets/controls",
          "model_name": "DescriptionStyleModel",
          "state": {
            "_view_name": "StyleView",
            "_model_name": "DescriptionStyleModel",
            "description_width": "",
            "_view_module": "@jupyter-widgets/base",
            "_model_module_version": "1.5.0",
            "_view_count": null,
            "_view_module_version": "1.2.0",
            "_model_module": "@jupyter-widgets/controls"
          }
        },
        "b8707b63cac04b7a9b8ab0dada23022c": {
          "model_module": "@jupyter-widgets/base",
          "model_name": "LayoutModel",
          "state": {
            "_view_name": "LayoutView",
            "grid_template_rows": null,
            "right": null,
            "justify_content": null,
            "_view_module": "@jupyter-widgets/base",
            "overflow": null,
            "_model_module_version": "1.2.0",
            "_view_count": null,
            "flex_flow": null,
            "width": null,
            "min_width": null,
            "border": null,
            "align_items": null,
            "bottom": null,
            "_model_module": "@jupyter-widgets/base",
            "top": null,
            "grid_column": null,
            "overflow_y": null,
            "overflow_x": null,
            "grid_auto_flow": null,
            "grid_area": null,
            "grid_template_columns": null,
            "flex": null,
            "_model_name": "LayoutModel",
            "justify_items": null,
            "grid_row": null,
            "max_height": null,
            "align_content": null,
            "visibility": null,
            "align_self": null,
            "height": null,
            "min_height": null,
            "padding": null,
            "grid_auto_rows": null,
            "grid_gap": null,
            "max_width": null,
            "order": null,
            "_view_module_version": "1.2.0",
            "grid_template_areas": null,
            "object_position": null,
            "object_fit": null,
            "grid_auto_columns": null,
            "margin": null,
            "display": null,
            "left": null
          }
        }
      }
    }
  },
  "cells": [
    {
      "cell_type": "markdown",
      "metadata": {
        "id": "s3zxe3hn5N3Y"
      },
      "source": [
        "# BERT based QnA"
      ]
    },
    {
      "cell_type": "markdown",
      "metadata": {
        "id": "i1oGTSrSzM6b"
      },
      "source": [
        "Copyright @ 2020 **ABCOM Information Systems Pvt. Ltd.** All Rights Reserved.\n",
        "\n",
        "Licensed under the Apache License, Version 2.0 (the \"License\"); you may not use this file except in compliance with the License. You may obtain a copy of the License at\n",
        "\n",
        "http://www.apache.org/licenses/LICENSE-2.0\n",
        "\n",
        "Unless required by applicable law or agreed to in writing, software distributed under the License is distributed on an \"AS IS\" BASIS, WITHOUT WARRANTIES OR CONDITIONS OF ANY KIND, either express or implied.\n",
        "\n",
        "See the License for the specific language governing permissions and limitations under the License."
      ]
    },
    {
      "cell_type": "markdown",
      "metadata": {
        "id": "UcKlnDn-5omU"
      },
      "source": [
        "A pre-trained BERT based model from Huggingface for QnA."
      ]
    },
    {
      "cell_type": "markdown",
      "metadata": {
        "id": "WwYHR5se6Mhi"
      },
      "source": [
        "# Installing the required modules and frameworks"
      ]
    },
    {
      "cell_type": "code",
      "metadata": {
        "id": "swB16mA1whxA",
        "outputId": "78f4a369-a5b1-4beb-8196-1aad467d3a30",
        "colab": {
          "base_uri": "https://localhost:8080/",
          "height": 627
        }
      },
      "source": [
        "!pip install transformers"
      ],
      "execution_count": null,
      "outputs": [
        {
          "output_type": "stream",
          "text": [
            "Collecting transformers\n",
            "\u001b[?25l  Downloading https://files.pythonhosted.org/packages/19/22/aff234f4a841f8999e68a7a94bdd4b60b4cebcfeca5d67d61cd08c9179de/transformers-3.3.1-py3-none-any.whl (1.1MB)\n",
            "\u001b[K     |████████████████████████████████| 1.1MB 4.6MB/s \n",
            "\u001b[?25hRequirement already satisfied: numpy in /usr/local/lib/python3.6/dist-packages (from transformers) (1.18.5)\n",
            "Requirement already satisfied: dataclasses; python_version < \"3.7\" in /usr/local/lib/python3.6/dist-packages (from transformers) (0.7)\n",
            "Requirement already satisfied: packaging in /usr/local/lib/python3.6/dist-packages (from transformers) (20.4)\n",
            "Requirement already satisfied: regex!=2019.12.17 in /usr/local/lib/python3.6/dist-packages (from transformers) (2019.12.20)\n",
            "Collecting sentencepiece!=0.1.92\n",
            "\u001b[?25l  Downloading https://files.pythonhosted.org/packages/d4/a4/d0a884c4300004a78cca907a6ff9a5e9fe4f090f5d95ab341c53d28cbc58/sentencepiece-0.1.91-cp36-cp36m-manylinux1_x86_64.whl (1.1MB)\n",
            "\u001b[K     |████████████████████████████████| 1.1MB 23.8MB/s \n",
            "\u001b[?25hRequirement already satisfied: requests in /usr/local/lib/python3.6/dist-packages (from transformers) (2.23.0)\n",
            "Collecting sacremoses\n",
            "\u001b[?25l  Downloading https://files.pythonhosted.org/packages/7d/34/09d19aff26edcc8eb2a01bed8e98f13a1537005d31e95233fd48216eed10/sacremoses-0.0.43.tar.gz (883kB)\n",
            "\u001b[K     |████████████████████████████████| 890kB 32.1MB/s \n",
            "\u001b[?25hRequirement already satisfied: filelock in /usr/local/lib/python3.6/dist-packages (from transformers) (3.0.12)\n",
            "Collecting tokenizers==0.8.1.rc2\n",
            "\u001b[?25l  Downloading https://files.pythonhosted.org/packages/80/83/8b9fccb9e48eeb575ee19179e2bdde0ee9a1904f97de5f02d19016b8804f/tokenizers-0.8.1rc2-cp36-cp36m-manylinux1_x86_64.whl (3.0MB)\n",
            "\u001b[K     |████████████████████████████████| 3.0MB 52.3MB/s \n",
            "\u001b[?25hRequirement already satisfied: tqdm>=4.27 in /usr/local/lib/python3.6/dist-packages (from transformers) (4.41.1)\n",
            "Requirement already satisfied: pyparsing>=2.0.2 in /usr/local/lib/python3.6/dist-packages (from packaging->transformers) (2.4.7)\n",
            "Requirement already satisfied: six in /usr/local/lib/python3.6/dist-packages (from packaging->transformers) (1.15.0)\n",
            "Requirement already satisfied: chardet<4,>=3.0.2 in /usr/local/lib/python3.6/dist-packages (from requests->transformers) (3.0.4)\n",
            "Requirement already satisfied: certifi>=2017.4.17 in /usr/local/lib/python3.6/dist-packages (from requests->transformers) (2020.6.20)\n",
            "Requirement already satisfied: idna<3,>=2.5 in /usr/local/lib/python3.6/dist-packages (from requests->transformers) (2.10)\n",
            "Requirement already satisfied: urllib3!=1.25.0,!=1.25.1,<1.26,>=1.21.1 in /usr/local/lib/python3.6/dist-packages (from requests->transformers) (1.24.3)\n",
            "Requirement already satisfied: click in /usr/local/lib/python3.6/dist-packages (from sacremoses->transformers) (7.1.2)\n",
            "Requirement already satisfied: joblib in /usr/local/lib/python3.6/dist-packages (from sacremoses->transformers) (0.16.0)\n",
            "Building wheels for collected packages: sacremoses\n",
            "  Building wheel for sacremoses (setup.py) ... \u001b[?25l\u001b[?25hdone\n",
            "  Created wheel for sacremoses: filename=sacremoses-0.0.43-cp36-none-any.whl size=893257 sha256=f00bb55c5d3426da1fda91ad3e9c6fe27d47c07291413a2b1318c140ddb7c154\n",
            "  Stored in directory: /root/.cache/pip/wheels/29/3c/fd/7ce5c3f0666dab31a50123635e6fb5e19ceb42ce38d4e58f45\n",
            "Successfully built sacremoses\n",
            "Installing collected packages: sentencepiece, sacremoses, tokenizers, transformers\n",
            "Successfully installed sacremoses-0.0.43 sentencepiece-0.1.91 tokenizers-0.8.1rc2 transformers-3.3.1\n"
          ],
          "name": "stdout"
        }
      ]
    },
    {
      "cell_type": "code",
      "metadata": {
        "id": "gtb_8rS0v373"
      },
      "source": [
        "from transformers import BertTokenizer, TFBertForQuestionAnswering \n",
        "\n",
        "import tensorflow as tf\n",
        "from google.colab import drive\n",
        "import requests"
      ],
      "execution_count": null,
      "outputs": []
    },
    {
      "cell_type": "markdown",
      "metadata": {
        "id": "8LtICpNiF0zq"
      },
      "source": [
        "# Loading tokenizer and pretrained model"
      ]
    },
    {
      "cell_type": "code",
      "metadata": {
        "id": "rDZUak5_wcut",
        "outputId": "1c1c96f5-3fab-43e1-cdff-c3048d490890",
        "colab": {
          "base_uri": "https://localhost:8080/",
          "height": 255,
          "referenced_widgets": [
            "0f705f7d350f4876944969f26f6ba38a",
            "fb12d4a5dca54f979dc289b374f83d7f",
            "424f92264c414b1291de3dc684969c78",
            "d2d2068eaa1443ff87088c87eda424f2",
            "99fddcf9d3a2442eb16a7fcd9cb21608",
            "c79180ed7e0c46edafd331a3389ed1a7",
            "bbd7c51f343440e0aea17bdbb205451c",
            "ce4d1985d43a464fb13d0f3da620deeb",
            "7558be5497814360a87404ac9fa62a69",
            "d25958ddba2041a78beb797a79e84f81",
            "d185b04b8f3049de891a69db12a6b1d3",
            "692623e62800494c9ed2e3b932eaeb06",
            "138a225f85944c10adce345b8c4c7178",
            "b22e82cc17c249e88ae884477633855e",
            "d19b3cb053fa4a198342625071ed5412",
            "aa5ea9473daa4f2e8f8c73c139f87dd8",
            "68d6ee2375fb422a8153eda0f6bb0e6c",
            "a3a8ac2cd40143e0a7631f0a1a5c2fe6",
            "60c775508e5f4e91807a4604b6dc5f3a",
            "1083e18ce92444499c707aff78436375",
            "4da2cab64bdd4c1c94d74d3e37a5021c",
            "46e22033630b46e9ad9717af4bee3927",
            "34cfbcb0482a44dcb83cdf6df8ed0ebe",
            "b8707b63cac04b7a9b8ab0dada23022c"
          ]
        }
      },
      "source": [
        "modelName = 'bert-large-uncased-whole-word-masking-finetuned-squad'\n",
        "tokenizer = BertTokenizer.from_pretrained(modelName)\n",
        "model = TFBertForQuestionAnswering.from_pretrained(modelName)"
      ],
      "execution_count": null,
      "outputs": [
        {
          "output_type": "display_data",
          "data": {
            "application/vnd.jupyter.widget-view+json": {
              "model_id": "0f705f7d350f4876944969f26f6ba38a",
              "version_minor": 0,
              "version_major": 2
            },
            "text/plain": [
              "HBox(children=(FloatProgress(value=0.0, description='Downloading', max=231508.0, style=ProgressStyle(descripti…"
            ]
          },
          "metadata": {
            "tags": []
          }
        },
        {
          "output_type": "stream",
          "text": [
            "\n"
          ],
          "name": "stdout"
        },
        {
          "output_type": "display_data",
          "data": {
            "application/vnd.jupyter.widget-view+json": {
              "model_id": "7558be5497814360a87404ac9fa62a69",
              "version_minor": 0,
              "version_major": 2
            },
            "text/plain": [
              "HBox(children=(FloatProgress(value=0.0, description='Downloading', max=443.0, style=ProgressStyle(description_…"
            ]
          },
          "metadata": {
            "tags": []
          }
        },
        {
          "output_type": "stream",
          "text": [
            "\n"
          ],
          "name": "stdout"
        },
        {
          "output_type": "display_data",
          "data": {
            "application/vnd.jupyter.widget-view+json": {
              "model_id": "68d6ee2375fb422a8153eda0f6bb0e6c",
              "version_minor": 0,
              "version_major": 2
            },
            "text/plain": [
              "HBox(children=(FloatProgress(value=0.0, description='Downloading', max=1341090760.0, style=ProgressStyle(descr…"
            ]
          },
          "metadata": {
            "tags": []
          }
        },
        {
          "output_type": "stream",
          "text": [
            "\n"
          ],
          "name": "stdout"
        },
        {
          "output_type": "stream",
          "text": [
            "All model checkpoint weights were used when initializing TFBertForQuestionAnswering.\n",
            "\n",
            "All the weights of TFBertForQuestionAnswering were initialized from the model checkpoint at bert-large-uncased-whole-word-masking-finetuned-squad.\n",
            "If your task is similar to the task the model of the checkpoint was trained on, you can already use TFBertForQuestionAnswering for predictions without further training.\n"
          ],
          "name": "stderr"
        }
      ]
    },
    {
      "cell_type": "markdown",
      "metadata": {
        "id": "GgXDsFEGPXP0"
      },
      "source": [
        "# Context (Information source) and Query"
      ]
    },
    {
      "cell_type": "markdown",
      "metadata": {
        "id": "Jl8S2h74PuND"
      },
      "source": [
        "Ref:\n",
        "[Wikipedia COVID-19 page](https://en.wikipedia.org/wiki/Coronavirus_disease_2019)"
      ]
    },
    {
      "cell_type": "code",
      "metadata": {
        "id": "cN8EcoyexAoQ"
      },
      "source": [
        "source=r\"\"\"The COVID‑19 pandemic, also known as the coronavirus pandemic, is an \n",
        "ongoing global pandemic of coronavirus disease 2019 (COVID‑19). The outbreak was\n",
        " first identified in December 2019 in Wuhan, China. The World Health \n",
        " Organization declared the outbreak a Public Health Emergency of International \n",
        " Concern on 30 January 2020 and a pandemic on 11 March. As of 6 August 2020, \n",
        " more than 18.7 million cases of COVID‑19 have been reported in more than 188 \n",
        " countries and territories, resulting in more than 706,000 deaths; more than \n",
        " 11.3 million people have recovered.The virus is primarily spread between people \n",
        " during close contact,most often via small droplets produced by coughing, \n",
        " sneezing, and talking.The droplets usually fall to the ground or onto surfaces\n",
        " rather than travelling through air over long distances.However, the \n",
        " transmission may also occur through smaller droplets that are able to stay \n",
        " suspended in the air for longer periods of time in enclosed spaces, as typical \n",
        " for airborne diseases. Less commonly, people may become infected by touching a \n",
        " contaminated surface and then touching their face.It is most contagious during \n",
        " the first three days after the onset of symptoms, although spread is possible \n",
        " before symptoms appear, and from people who do not show symptoms. Common \n",
        " symptoms include fever, cough, fatigue, shortness of breath, and loss of sense \n",
        " of smell. Complications may include pneumonia and acute respiratory distress \n",
        " syndrome.The time from exposure to onset of symptoms is typically around five \n",
        " days but may range from two to fourteen days.There is no known vaccine or \n",
        " specific antiviral treatment.Primary treatment is symptomatic and supportive \n",
        " therapy.Recommended preventive measures include hand washing, covering one's \n",
        " mouth when coughing, maintaining distance from other people, wearing a face \n",
        " mask in public settings, disinfecting surfaces, increasing ventilation and air \n",
        "filtration indoors, and monitoring and self-isolation for people who suspect \n",
        "they are infected. Authorities worldwide have responded by implementing travel \n",
        "restrictions, lockdowns, workplace hazard controls, and facility closures in \n",
        "order to slow the spread of the disease. Many places have also worked to \n",
        "increase testing capacity and trace contacts of infected persons.The pandemic \n",
        "has caused global social and economic disruption, global famines affecting 265 \n",
        "million people.\"\"\"\n",
        "\n",
        "question =r\"\"\"What are the symptoms of COVID-19?\"\"\""
      ],
      "execution_count": null,
      "outputs": []
    },
    {
      "cell_type": "markdown",
      "metadata": {
        "id": "H3fhvqUhRlrI"
      },
      "source": [
        "# Data preprocessing"
      ]
    },
    {
      "cell_type": "markdown",
      "metadata": {
        "id": "f-pEknQNR3Pi"
      },
      "source": [
        "We add a seperator such as **\" [SEP] \"** between the source and the question."
      ]
    },
    {
      "cell_type": "code",
      "metadata": {
        "id": "9DdDYq9KxAuo"
      },
      "source": [
        "input_text=question+\" [SEP] \"+source\n",
        "input_ids=tokenizer.encode(input_text)\n",
        "input_1 = tf.constant(input_ids)[None, :]"
      ],
      "execution_count": null,
      "outputs": []
    },
    {
      "cell_type": "code",
      "metadata": {
        "id": "8NpS6FOPxAq2",
        "outputId": "fe9b750c-38cb-4f1c-b0fa-9f9b94f296a7",
        "colab": {
          "base_uri": "https://localhost:8080/",
          "height": 72
        }
      },
      "source": [
        "print(input_ids)\n",
        "print(tokenizer.decode(input_ids))"
      ],
      "execution_count": null,
      "outputs": [
        {
          "output_type": "stream",
          "text": [
            "[101, 2054, 2024, 1996, 8030, 1997, 2522, 17258, 1011, 2539, 1029, 102, 1996, 2522, 17258, 1514, 2539, 6090, 3207, 7712, 1010, 2036, 2124, 2004, 1996, 21887, 23350, 6090, 3207, 7712, 1010, 2003, 2019, 7552, 3795, 6090, 3207, 7712, 1997, 21887, 23350, 4295, 10476, 1006, 2522, 17258, 1514, 2539, 1007, 1012, 1996, 8293, 2001, 2034, 4453, 1999, 2285, 10476, 1999, 8814, 4819, 1010, 2859, 1012, 1996, 2088, 2740, 3029, 4161, 1996, 8293, 1037, 2270, 2740, 5057, 1997, 2248, 5142, 2006, 2382, 2254, 12609, 1998, 1037, 6090, 3207, 7712, 2006, 2340, 2233, 1012, 2004, 1997, 1020, 2257, 12609, 1010, 2062, 2084, 2324, 1012, 1021, 2454, 3572, 1997, 2522, 17258, 1514, 2539, 2031, 2042, 2988, 1999, 2062, 2084, 19121, 3032, 1998, 6500, 1010, 4525, 1999, 2062, 2084, 3963, 2575, 1010, 2199, 6677, 1025, 2062, 2084, 2340, 1012, 1017, 2454, 2111, 2031, 6757, 1012, 1996, 7865, 2003, 3952, 3659, 2090, 2111, 2076, 2485, 3967, 1010, 2087, 2411, 3081, 2235, 27126, 2550, 2011, 21454, 1010, 1055, 24045, 6774, 1010, 1998, 3331, 1012, 1996, 27126, 2788, 2991, 2000, 1996, 2598, 2030, 3031, 9972, 2738, 2084, 8932, 2083, 2250, 2058, 2146, 12103, 1012, 2174, 1010, 1996, 6726, 2089, 2036, 5258, 2083, 3760, 27126, 2008, 2024, 2583, 2000, 2994, 6731, 1999, 1996, 2250, 2005, 2936, 6993, 1997, 2051, 1999, 10837, 7258, 1010, 2004, 5171, 2005, 10519, 7870, 1012, 2625, 4141, 1010, 2111, 2089, 2468, 10372, 2011, 7244, 1037, 19450, 3302, 1998, 2059, 7244, 2037, 2227, 1012, 2009, 2003, 2087, 9530, 15900, 6313, 2076, 1996, 2034, 2093, 2420, 2044, 1996, 14447, 1997, 8030, 1010, 2348, 3659, 2003, 2825, 2077, 8030, 3711, 1010, 1998, 2013, 2111, 2040, 2079, 2025, 2265, 8030, 1012, 2691, 8030, 2421, 9016, 1010, 19340, 1010, 16342, 1010, 2460, 2791, 1997, 3052, 1010, 1998, 3279, 1997, 3168, 1997, 5437, 1012, 12763, 2089, 2421, 18583, 1998, 11325, 16464, 12893, 8715, 1012, 1996, 2051, 2013, 7524, 2000, 14447, 1997, 8030, 2003, 4050, 2105, 2274, 2420, 2021, 2089, 2846, 2013, 2048, 2000, 7426, 2420, 1012, 2045, 2003, 2053, 2124, 17404, 2030, 3563, 3424, 24093, 2140, 3949, 1012, 3078, 3949, 2003, 25353, 27718, 9626, 4588, 1998, 16408, 7242, 1012, 6749, 4652, 3512, 5761, 2421, 2192, 12699, 1010, 5266, 2028, 1005, 1055, 2677, 2043, 21454, 1010, 8498, 3292, 2013, 2060, 2111, 1010, 4147, 1037, 2227, 7308, 1999, 2270, 10906, 1010, 4487, 11493, 25969, 2075, 9972, 1010, 4852, 19536, 1998, 2250, 10882, 7096, 8156, 24274, 1010, 1998, 8822, 1998, 2969, 1011, 12477, 2005, 2111, 2040, 8343, 2027, 2024, 10372, 1012, 4614, 4969, 2031, 5838, 2011, 14972, 3604, 9259, 1010, 5843, 7698, 2015, 1010, 16165, 15559, 7711, 1010, 1998, 4322, 8503, 2015, 1999, 2344, 2000, 4030, 1996, 3659, 1997, 1996, 4295, 1012, 2116, 3182, 2031, 2036, 2499, 2000, 3623, 5604, 3977, 1998, 7637, 10402, 1997, 10372, 5381, 1012, 1996, 6090, 3207, 7712, 2038, 3303, 3795, 2591, 1998, 3171, 20461, 1010, 3795, 15625, 2015, 12473, 20549, 2454, 2111, 1012, 102]\n",
            "[CLS] what are the symptoms of covid - 19? [SEP] the covid ‑ 19 pandemic, also known as the coronavirus pandemic, is an ongoing global pandemic of coronavirus disease 2019 ( covid ‑ 19 ). the outbreak was first identified in december 2019 in wuhan, china. the world health organization declared the outbreak a public health emergency of international concern on 30 january 2020 and a pandemic on 11 march. as of 6 august 2020, more than 18. 7 million cases of covid ‑ 19 have been reported in more than 188 countries and territories, resulting in more than 706, 000 deaths ; more than 11. 3 million people have recovered. the virus is primarily spread between people during close contact, most often via small droplets produced by coughing, sneezing, and talking. the droplets usually fall to the ground or onto surfaces rather than travelling through air over long distances. however, the transmission may also occur through smaller droplets that are able to stay suspended in the air for longer periods of time in enclosed spaces, as typical for airborne diseases. less commonly, people may become infected by touching a contaminated surface and then touching their face. it is most contagious during the first three days after the onset of symptoms, although spread is possible before symptoms appear, and from people who do not show symptoms. common symptoms include fever, cough, fatigue, shortness of breath, and loss of sense of smell. complications may include pneumonia and acute respiratory distress syndrome. the time from exposure to onset of symptoms is typically around five days but may range from two to fourteen days. there is no known vaccine or specific antiviral treatment. primary treatment is symptomatic and supportive therapy. recommended preventive measures include hand washing, covering one's mouth when coughing, maintaining distance from other people, wearing a face mask in public settings, disinfecting surfaces, increasing ventilation and air filtration indoors, and monitoring and self - isolation for people who suspect they are infected. authorities worldwide have responded by implementing travel restrictions, lockdowns, workplace hazard controls, and facility closures in order to slow the spread of the disease. many places have also worked to increase testing capacity and trace contacts of infected persons. the pandemic has caused global social and economic disruption, global famines affecting 265 million people. [SEP]\n"
          ],
          "name": "stdout"
        }
      ]
    },
    {
      "cell_type": "code",
      "metadata": {
        "id": "Reg4BhPOnoCv",
        "outputId": "02689251-70af-4686-d5ee-12b4990d7638",
        "colab": {
          "base_uri": "https://localhost:8080/",
          "height": 729
        }
      },
      "source": [
        "print (input_1)"
      ],
      "execution_count": null,
      "outputs": [
        {
          "output_type": "stream",
          "text": [
            "tf.Tensor(\n",
            "[[  101  2054  2024  1996  8030  1997  2522 17258  1011  2539  1029   102\n",
            "   1996  2522 17258  1514  2539  6090  3207  7712  1010  2036  2124  2004\n",
            "   1996 21887 23350  6090  3207  7712  1010  2003  2019  7552  3795  6090\n",
            "   3207  7712  1997 21887 23350  4295 10476  1006  2522 17258  1514  2539\n",
            "   1007  1012  1996  8293  2001  2034  4453  1999  2285 10476  1999  8814\n",
            "   4819  1010  2859  1012  1996  2088  2740  3029  4161  1996  8293  1037\n",
            "   2270  2740  5057  1997  2248  5142  2006  2382  2254 12609  1998  1037\n",
            "   6090  3207  7712  2006  2340  2233  1012  2004  1997  1020  2257 12609\n",
            "   1010  2062  2084  2324  1012  1021  2454  3572  1997  2522 17258  1514\n",
            "   2539  2031  2042  2988  1999  2062  2084 19121  3032  1998  6500  1010\n",
            "   4525  1999  2062  2084  3963  2575  1010  2199  6677  1025  2062  2084\n",
            "   2340  1012  1017  2454  2111  2031  6757  1012  1996  7865  2003  3952\n",
            "   3659  2090  2111  2076  2485  3967  1010  2087  2411  3081  2235 27126\n",
            "   2550  2011 21454  1010  1055 24045  6774  1010  1998  3331  1012  1996\n",
            "  27126  2788  2991  2000  1996  2598  2030  3031  9972  2738  2084  8932\n",
            "   2083  2250  2058  2146 12103  1012  2174  1010  1996  6726  2089  2036\n",
            "   5258  2083  3760 27126  2008  2024  2583  2000  2994  6731  1999  1996\n",
            "   2250  2005  2936  6993  1997  2051  1999 10837  7258  1010  2004  5171\n",
            "   2005 10519  7870  1012  2625  4141  1010  2111  2089  2468 10372  2011\n",
            "   7244  1037 19450  3302  1998  2059  7244  2037  2227  1012  2009  2003\n",
            "   2087  9530 15900  6313  2076  1996  2034  2093  2420  2044  1996 14447\n",
            "   1997  8030  1010  2348  3659  2003  2825  2077  8030  3711  1010  1998\n",
            "   2013  2111  2040  2079  2025  2265  8030  1012  2691  8030  2421  9016\n",
            "   1010 19340  1010 16342  1010  2460  2791  1997  3052  1010  1998  3279\n",
            "   1997  3168  1997  5437  1012 12763  2089  2421 18583  1998 11325 16464\n",
            "  12893  8715  1012  1996  2051  2013  7524  2000 14447  1997  8030  2003\n",
            "   4050  2105  2274  2420  2021  2089  2846  2013  2048  2000  7426  2420\n",
            "   1012  2045  2003  2053  2124 17404  2030  3563  3424 24093  2140  3949\n",
            "   1012  3078  3949  2003 25353 27718  9626  4588  1998 16408  7242  1012\n",
            "   6749  4652  3512  5761  2421  2192 12699  1010  5266  2028  1005  1055\n",
            "   2677  2043 21454  1010  8498  3292  2013  2060  2111  1010  4147  1037\n",
            "   2227  7308  1999  2270 10906  1010  4487 11493 25969  2075  9972  1010\n",
            "   4852 19536  1998  2250 10882  7096  8156 24274  1010  1998  8822  1998\n",
            "   2969  1011 12477  2005  2111  2040  8343  2027  2024 10372  1012  4614\n",
            "   4969  2031  5838  2011 14972  3604  9259  1010  5843  7698  2015  1010\n",
            "  16165 15559  7711  1010  1998  4322  8503  2015  1999  2344  2000  4030\n",
            "   1996  3659  1997  1996  4295  1012  2116  3182  2031  2036  2499  2000\n",
            "   3623  5604  3977  1998  7637 10402  1997 10372  5381  1012  1996  6090\n",
            "   3207  7712  2038  3303  3795  2591  1998  3171 20461  1010  3795 15625\n",
            "   2015 12473 20549  2454  2111  1012   102]], shape=(1, 475), dtype=int32)\n"
          ],
          "name": "stdout"
        }
      ]
    },
    {
      "cell_type": "code",
      "metadata": {
        "id": "BXZmg4VixAbS",
        "outputId": "a4803960-81ae-40ac-b328-12da0d64c291",
        "colab": {
          "base_uri": "https://localhost:8080/",
          "height": 54
        }
      },
      "source": [
        "token_ids=[0 if i < input_ids.index(102) else 1 for i in range(len(input_ids))]\n",
        "print(token_ids)"
      ],
      "execution_count": null,
      "outputs": [
        {
          "output_type": "stream",
          "text": [
            "[0, 0, 0, 0, 0, 0, 0, 0, 0, 0, 0, 1, 1, 1, 1, 1, 1, 1, 1, 1, 1, 1, 1, 1, 1, 1, 1, 1, 1, 1, 1, 1, 1, 1, 1, 1, 1, 1, 1, 1, 1, 1, 1, 1, 1, 1, 1, 1, 1, 1, 1, 1, 1, 1, 1, 1, 1, 1, 1, 1, 1, 1, 1, 1, 1, 1, 1, 1, 1, 1, 1, 1, 1, 1, 1, 1, 1, 1, 1, 1, 1, 1, 1, 1, 1, 1, 1, 1, 1, 1, 1, 1, 1, 1, 1, 1, 1, 1, 1, 1, 1, 1, 1, 1, 1, 1, 1, 1, 1, 1, 1, 1, 1, 1, 1, 1, 1, 1, 1, 1, 1, 1, 1, 1, 1, 1, 1, 1, 1, 1, 1, 1, 1, 1, 1, 1, 1, 1, 1, 1, 1, 1, 1, 1, 1, 1, 1, 1, 1, 1, 1, 1, 1, 1, 1, 1, 1, 1, 1, 1, 1, 1, 1, 1, 1, 1, 1, 1, 1, 1, 1, 1, 1, 1, 1, 1, 1, 1, 1, 1, 1, 1, 1, 1, 1, 1, 1, 1, 1, 1, 1, 1, 1, 1, 1, 1, 1, 1, 1, 1, 1, 1, 1, 1, 1, 1, 1, 1, 1, 1, 1, 1, 1, 1, 1, 1, 1, 1, 1, 1, 1, 1, 1, 1, 1, 1, 1, 1, 1, 1, 1, 1, 1, 1, 1, 1, 1, 1, 1, 1, 1, 1, 1, 1, 1, 1, 1, 1, 1, 1, 1, 1, 1, 1, 1, 1, 1, 1, 1, 1, 1, 1, 1, 1, 1, 1, 1, 1, 1, 1, 1, 1, 1, 1, 1, 1, 1, 1, 1, 1, 1, 1, 1, 1, 1, 1, 1, 1, 1, 1, 1, 1, 1, 1, 1, 1, 1, 1, 1, 1, 1, 1, 1, 1, 1, 1, 1, 1, 1, 1, 1, 1, 1, 1, 1, 1, 1, 1, 1, 1, 1, 1, 1, 1, 1, 1, 1, 1, 1, 1, 1, 1, 1, 1, 1, 1, 1, 1, 1, 1, 1, 1, 1, 1, 1, 1, 1, 1, 1, 1, 1, 1, 1, 1, 1, 1, 1, 1, 1, 1, 1, 1, 1, 1, 1, 1, 1, 1, 1, 1, 1, 1, 1, 1, 1, 1, 1, 1, 1, 1, 1, 1, 1, 1, 1, 1, 1, 1, 1, 1, 1, 1, 1, 1, 1, 1, 1, 1, 1, 1, 1, 1, 1, 1, 1, 1, 1, 1, 1, 1, 1, 1, 1, 1, 1, 1, 1, 1, 1, 1, 1, 1, 1, 1, 1, 1, 1, 1, 1, 1, 1, 1, 1, 1, 1, 1, 1, 1, 1, 1, 1, 1, 1, 1, 1, 1, 1, 1, 1, 1, 1, 1, 1, 1, 1, 1, 1, 1, 1, 1, 1, 1, 1, 1, 1, 1, 1, 1, 1, 1, 1, 1, 1, 1, 1]\n"
          ],
          "name": "stdout"
        }
      ]
    },
    {
      "cell_type": "markdown",
      "metadata": {
        "id": "j6Cq9MvcV0QL"
      },
      "source": [
        "# Prediction"
      ]
    },
    {
      "cell_type": "code",
      "metadata": {
        "id": "Wvooumc0xuxq"
      },
      "source": [
        "answer = model({'input_ids':input_1,\n",
        "              'token_type_ids': tf.convert_to_tensor([token_ids])})\n",
        "startScores, endScores = answer\n",
        "input_tokens = tokenizer.convert_ids_to_tokens(input_ids)\n",
        "startIndex = tf.math.argmax(startScores[0],0).numpy()\n",
        "endIndex = tf.math.argmax(endScores[0],0).numpy()+1"
      ],
      "execution_count": null,
      "outputs": []
    },
    {
      "cell_type": "code",
      "metadata": {
        "id": "atIA8_VCx2yC"
      },
      "source": [
        "def process(ans_str):\n",
        "    new=ans_str.split('#')\n",
        "    new_ans_str=\"\"\n",
        "    for word in new:\n",
        "        if word==\"\":\n",
        "            new_ans_str=new_ans_str[:-1]\n",
        "        new_ans_str+=word\n",
        "    return new_ans_str"
      ],
      "execution_count": null,
      "outputs": []
    },
    {
      "cell_type": "code",
      "metadata": {
        "id": "DobDFXIgx6cq",
        "outputId": "e8483019-70c4-4aa7-90a8-5cfe71631e98",
        "colab": {
          "base_uri": "https://localhost:8080/",
          "height": 52
        }
      },
      "source": [
        "ans=process(\"\\n\"+\" \".join(input_tokens[startIndex:endIndex]))\n",
        "print(ans)"
      ],
      "execution_count": null,
      "outputs": [
        {
          "output_type": "stream",
          "text": [
            "\n",
            "fever , cough , fatigue , shortness of breath , and loss of sense of smell\n"
          ],
          "name": "stdout"
        }
      ]
    },
    {
      "cell_type": "markdown",
      "metadata": {
        "id": "qDfIeTV8WCa0"
      },
      "source": [
        "# Utility Function"
      ]
    },
    {
      "cell_type": "markdown",
      "metadata": {
        "id": "spcgSKguWKbL"
      },
      "source": [
        "A utility function for the user to input source and a question"
      ]
    },
    {
      "cell_type": "code",
      "metadata": {
        "id": "CYiSgqp12dPG"
      },
      "source": [
        "def QnA(context, question):\n",
        "    # Load the pretrained model\n",
        "    modelName = 'bert-large-uncased-whole-word-masking-finetuned-squad' \n",
        "    tokenizer = BertTokenizer.from_pretrained(modelName)\n",
        "    model = TFBertForQuestionAnswering.from_pretrained(modelName)\n",
        "    # Covid-19 Information\n",
        "    #source=context\n",
        "    # Concatenating and preprocessing for our bert model\n",
        "    input_text = question+\" [SEP] \"+ context\n",
        "    input_ids = tokenizer.encode(input_text)\n",
        "    input_1 = tf.constant(input_ids)[None, :]\n",
        "    # Token Ids\n",
        "    token_ids = [0 if i < input_ids.index(102) \n",
        "                    else 1 for i in range(len(input_ids))]\n",
        "    # Model prediction\n",
        "    answer = model({'input_ids':input_1,\n",
        "                    'token_type_ids': tf.convert_to_tensor([token_ids])})\n",
        "    startScores,endScores = answer\n",
        "    input_tokens = tokenizer.convert_ids_to_tokens(input_ids)\n",
        "    startIndex = tf.math.argmax(startScores[0],0).numpy()\n",
        "    endIndex = tf.math.argmax(endScores[0],0).numpy()+1\n",
        "    ans = process(\"\\n\"+\" \".join(input_tokens[startIndex:endIndex]))\n",
        "    return ans"
      ],
      "execution_count": null,
      "outputs": []
    },
    {
      "cell_type": "markdown",
      "metadata": {
        "id": "h4b6kZ3iPb8s"
      },
      "source": [
        "# User Interface"
      ]
    },
    {
      "cell_type": "markdown",
      "metadata": {
        "id": "8pIOUa0WMw7z"
      },
      "source": [
        "Loading the text files from Github to be used as context."
      ]
    },
    {
      "cell_type": "code",
      "metadata": {
        "id": "kRfbGUM5BNh0",
        "outputId": "6dba6126-19bc-4df2-a4bf-4017a5b55fef",
        "colab": {
          "base_uri": "https://localhost:8080/",
          "height": 972
        }
      },
      "source": [
        "!wget https://raw.githubusercontent.com/abcom-mltutorials/BERT-QnA/master/covid.txt\n",
        "!wget https://raw.githubusercontent.com/abcom-mltutorials/BERT-QnA/master/google.txt\n",
        "!wget https://raw.githubusercontent.com/abcom-mltutorials/BERT-QnA/master/UNO.txt\n",
        "!wget https://raw.githubusercontent.com/abcom-mltutorials/BERT-QnA/master/sachin.txt\n",
        "!wget https://raw.githubusercontent.com/abcom-mltutorials/BERT-QnA/master/NSS.txt"
      ],
      "execution_count": null,
      "outputs": [
        {
          "output_type": "stream",
          "text": [
            "--2020-10-11 13:01:34--  https://raw.githubusercontent.com/abcom-mltutorials/BERT-QnA/master/covid.txt\n",
            "Resolving raw.githubusercontent.com (raw.githubusercontent.com)... 151.101.0.133, 151.101.64.133, 151.101.128.133, ...\n",
            "Connecting to raw.githubusercontent.com (raw.githubusercontent.com)|151.101.0.133|:443... connected.\n",
            "HTTP request sent, awaiting response... 200 OK\n",
            "Length: 2416 (2.4K) [text/plain]\n",
            "Saving to: ‘covid.txt’\n",
            "\n",
            "covid.txt           100%[===================>]   2.36K  --.-KB/s    in 0s      \n",
            "\n",
            "2020-10-11 13:01:34 (64.4 MB/s) - ‘covid.txt’ saved [2416/2416]\n",
            "\n",
            "--2020-10-11 13:01:34--  https://raw.githubusercontent.com/abcom-mltutorials/BERT-QnA/master/google.txt\n",
            "Resolving raw.githubusercontent.com (raw.githubusercontent.com)... 151.101.0.133, 151.101.64.133, 151.101.128.133, ...\n",
            "Connecting to raw.githubusercontent.com (raw.githubusercontent.com)|151.101.0.133|:443... connected.\n",
            "HTTP request sent, awaiting response... 200 OK\n",
            "Length: 826 [text/plain]\n",
            "Saving to: ‘google.txt’\n",
            "\n",
            "google.txt          100%[===================>]     826  --.-KB/s    in 0s      \n",
            "\n",
            "2020-10-11 13:01:35 (60.3 MB/s) - ‘google.txt’ saved [826/826]\n",
            "\n",
            "--2020-10-11 13:01:35--  https://raw.githubusercontent.com/abcom-mltutorials/BERT-QnA/master/UNO.txt\n",
            "Resolving raw.githubusercontent.com (raw.githubusercontent.com)... 151.101.0.133, 151.101.64.133, 151.101.128.133, ...\n",
            "Connecting to raw.githubusercontent.com (raw.githubusercontent.com)|151.101.0.133|:443... connected.\n",
            "HTTP request sent, awaiting response... 200 OK\n",
            "Length: 1640 (1.6K) [text/plain]\n",
            "Saving to: ‘UNO.txt’\n",
            "\n",
            "UNO.txt             100%[===================>]   1.60K  --.-KB/s    in 0s      \n",
            "\n",
            "2020-10-11 13:01:35 (10.8 MB/s) - ‘UNO.txt’ saved [1640/1640]\n",
            "\n",
            "--2020-10-11 13:01:35--  https://raw.githubusercontent.com/abcom-mltutorials/BERT-QnA/master/sachin.txt\n",
            "Resolving raw.githubusercontent.com (raw.githubusercontent.com)... 151.101.0.133, 151.101.64.133, 151.101.128.133, ...\n",
            "Connecting to raw.githubusercontent.com (raw.githubusercontent.com)|151.101.0.133|:443... connected.\n",
            "HTTP request sent, awaiting response... 200 OK\n",
            "Length: 2109 (2.1K) [text/plain]\n",
            "Saving to: ‘sachin.txt’\n",
            "\n",
            "sachin.txt          100%[===================>]   2.06K  --.-KB/s    in 0s      \n",
            "\n",
            "2020-10-11 13:01:35 (43.5 MB/s) - ‘sachin.txt’ saved [2109/2109]\n",
            "\n",
            "--2020-10-11 13:01:35--  https://raw.githubusercontent.com/abcom-mltutorials/BERT-QnA/master/NSS.txt\n",
            "Resolving raw.githubusercontent.com (raw.githubusercontent.com)... 151.101.0.133, 151.101.64.133, 151.101.128.133, ...\n",
            "Connecting to raw.githubusercontent.com (raw.githubusercontent.com)|151.101.0.133|:443... connected.\n",
            "HTTP request sent, awaiting response... 200 OK\n",
            "Length: 1934 (1.9K) [text/plain]\n",
            "Saving to: ‘NSS.txt’\n",
            "\n",
            "NSS.txt             100%[===================>]   1.89K  --.-KB/s    in 0s      \n",
            "\n",
            "2020-10-11 13:01:35 (50.4 MB/s) - ‘NSS.txt’ saved [1934/1934]\n",
            "\n"
          ],
          "name": "stdout"
        }
      ]
    },
    {
      "cell_type": "markdown",
      "metadata": {
        "id": "XJxXzUGYNAbZ"
      },
      "source": [
        "Storing the pre-loaded questions using a Dictionary."
      ]
    },
    {
      "cell_type": "code",
      "metadata": {
        "id": "B1VLelKmBWyn"
      },
      "source": [
        "sources = [\"Covid-19\",\"Google\",\"U.N.O.\",\"Sachin Tendulkar\",\n",
        "           \"National Service Scheme\"]\n",
        "txt_files = [\"covid.txt\", \"google.txt\", \"UNO.txt\", \"sachin.txt\", \"NSS.txt\"]\n",
        "questions = {1: [\"When was Covid-19 first detected?\", \n",
        "                 \"Where was Covid-19 first detected?\", \"How does Covid spread?\", \n",
        "                   \"What are the symptoms of Covid infection?\", \n",
        "                 \"What are the precautionary measures?\"],\n",
        "             2: [\"Who is the current CEO of Google?\", \"Who founded Google?\", \n",
        "                 \"Where is the Google headquarter located?\", \n",
        "                    \"When did IPO take place?\"],\n",
        "             3: [\"How many members does the General Assembly now have?\", \n",
        "                 \"Which country is not a member of the UNO?\", \n",
        "                 \"Through what office does the General Secretary function?\", \n",
        "                 \"What does UNESCO stand for?\"],\n",
        "             4: [\"When was Sachin born?\", \n",
        "                 \"Against which country did Sachin play his debut match?\", \n",
        "                    \"At what age did Sachin make his debut?\", \n",
        "                 \"What nickname did he get?\"],\n",
        "             5: [\"What are Indian youth accused of?\", \n",
        "          \"What scheme was introduced to involve students in social service ?\", \n",
        "                 \"What works are undertaken under this scheme?\", \n",
        "        \"For what purpose youth hostels with cheap accommodation are set up?\"]}"
      ],
      "execution_count": null,
      "outputs": []
    },
    {
      "cell_type": "code",
      "metadata": {
        "id": "bLh1g-RcffPU"
      },
      "source": [
        "#function to load the context based on user input\n",
        "def getContext (choice, sources):\n",
        "  file = sources[choice-1]\n",
        "  f = open(file, \"r\")\n",
        "  context = f.read()\n",
        "  return context"
      ],
      "execution_count": null,
      "outputs": []
    },
    {
      "cell_type": "code",
      "metadata": {
        "id": "NkPwKpkLfkWg"
      },
      "source": [
        "#function to answer the question based on user input\n",
        "def getAnswer (choice, context, questions ):\n",
        "  if (choice<=len(questions)):\n",
        "    query = questions[choice-1]\n",
        "    return QnA(context,query)\n",
        "  elif (choice>len(questions)):\n",
        "    query = input(\"Enter your query: \")\n",
        "    return QnA(context,query)"
      ],
      "execution_count": null,
      "outputs": []
    },
    {
      "cell_type": "markdown",
      "metadata": {
        "id": "WXfZsIquNsD5"
      },
      "source": [
        "In this interface, the user first has to select a context from the five sources \n",
        "available, or provide his/her own source as input.\n",
        "\n",
        "Once the context is selected, the user will have the choice to\n",
        "select among the pre-loaded questions for the system to answer, \n",
        "or ask a new question. \n",
        "\n",
        "In case the user had provided the source in the previous step, \n",
        "he/she can ask the system any question of his/her choice on the\n",
        "given context."
      ]
    },
    {
      "cell_type": "code",
      "metadata": {
        "id": "KFbfzjH9fn19",
        "outputId": "b12dc05d-a878-4067-ca33-a1328b12ea63",
        "colab": {
          "base_uri": "https://localhost:8080/",
          "height": 1000
        }
      },
      "source": [
        "while (True):\n",
        "  print(\"CHOOSE YOUR SOURCE CONTEXT\") \n",
        "  for i in range(len(sources)):\n",
        "    print(str(i+1) + \". \"+sources[i])\n",
        "  print(\"Enter \" + str((len(sources)+1)) + \" to provide your own text source\")\n",
        "  print(\"Enter 0 to exit choosing source context\")\n",
        "  src_choice = int(input(\"Enter your choice: \")) \n",
        "  \n",
        "  if (src_choice==0):\n",
        "    break\n",
        "  \n",
        "  elif (src_choice==6):\n",
        "    while (True):\n",
        "      print(\"1. Enter source text\\n2. Enter text file from Drive\")\n",
        "      print(\"3. Enter text file from Github\\nEnter 0 to exit\")\n",
        "      choice1 = int(input(\"Enter your choice: \"))\n",
        "      if (choice1 == 0):\n",
        "        break\n",
        "      elif (choice1 == 1):\n",
        "        context=input(\"Enter your context/source: \")\n",
        "      elif (choice1 == 2):\n",
        "        drive.mount(\"/content/drive\")\n",
        "        path = input(\"Enter text file path: \")\n",
        "        f = open(path, \"r\")\n",
        "        context = f.read()\n",
        "      elif (choice1 == 3):\n",
        "        path = input(\"Enter URL: \")\n",
        "        master = path\n",
        "        src = requests.get(master)\n",
        "        context = src.text     \n",
        "      while (True):\n",
        "        choice2 = int(input(\"Press 1 to ask a question OR 0 to exit:\"))\n",
        "        if (choice2==1):\n",
        "          query = input(\"Enter your query: \")\n",
        "          print(QnA(context,query))\n",
        "        elif (choice2==0):\n",
        "          break\n",
        "  \n",
        "  else:\n",
        "    context = getContext(src_choice, txt_files)\n",
        "    while (True):\n",
        "      print(\"CHOOSE YOUR QUERY\")\n",
        "      for j in range(len(questions[src_choice])):\n",
        "        print(str(j+1) + \". \"+questions[src_choice][j])\n",
        "      print(\"Enter \" + str((len(questions[src_choice])+1)) + \n",
        "            \" to ask your own question\")\n",
        "      print(\"Enter 0 to exit choosing query\")\n",
        "      q_choice = int(input(\"Enter your choice: \"))\n",
        "      if (q_choice == 0):\n",
        "        break\n",
        "      else:\n",
        "        print(getAnswer(q_choice, context, questions[src_choice]))\n",
        " "
      ],
      "execution_count": null,
      "outputs": [
        {
          "output_type": "stream",
          "text": [
            "CHOOSE YOUR SOURCE CONTEXT\n",
            "1. Covid-19\n",
            "2. Google\n",
            "3. U.N.O.\n",
            "4. Sachin Tendulkar\n",
            "5. National Service Scheme\n",
            "Enter 6 to provide your own text source\n",
            "Enter 0 to exit choosing source context\n",
            "Enter your choice: 2\n",
            "CHOOSE YOUR QUERY\n",
            "1. Who is the current CEO of Google?\n",
            "2. Who founded Google?\n",
            "3. Where is the Google headquarter located?\n",
            "4. When did IPO take place?\n",
            "Enter 5 to ask your own question\n",
            "Enter 0 to exit choosing query\n",
            "Enter your choice: 1\n"
          ],
          "name": "stdout"
        },
        {
          "output_type": "stream",
          "text": [
            "All model checkpoint weights were used when initializing TFBertForQuestionAnswering.\n",
            "\n",
            "All the weights of TFBertForQuestionAnswering were initialized from the model checkpoint at bert-large-uncased-whole-word-masking-finetuned-squad.\n",
            "If your task is similar to the task the model of the checkpoint was trained on, you can already use TFBertForQuestionAnswering for predictions without further training.\n"
          ],
          "name": "stderr"
        },
        {
          "output_type": "stream",
          "text": [
            "\n",
            "sundar pichai\n",
            "CHOOSE YOUR QUERY\n",
            "1. Who is the current CEO of Google?\n",
            "2. Who founded Google?\n",
            "3. Where is the Google headquarter located?\n",
            "4. When did IPO take place?\n",
            "Enter 5 to ask your own question\n",
            "Enter 0 to exit choosing query\n",
            "Enter your choice: 0\n",
            "CHOOSE YOUR SOURCE CONTEXT\n",
            "1. Covid-19\n",
            "2. Google\n",
            "3. U.N.O.\n",
            "4. Sachin Tendulkar\n",
            "5. National Service Scheme\n",
            "Enter 6 to provide your own text source\n",
            "Enter 0 to exit choosing source context\n",
            "Enter your choice: 6\n",
            "1. Enter source text\n",
            "2. Enter text file from Drive\n",
            "3. Enter text file from Github\n",
            "Enter 0 to exit\n",
            "Enter your choice: 3\n",
            "Enter URL: https://raw.githubusercontent.com/abcom-mltutorials/BERT-QnA/master/Nobel.txt\n",
            "Press 1 to ask a question OR 0 to exit:1\n",
            "Enter your query: Who awards the Nobel prize in Literature?\n"
          ],
          "name": "stdout"
        },
        {
          "output_type": "stream",
          "text": [
            "All model checkpoint weights were used when initializing TFBertForQuestionAnswering.\n",
            "\n",
            "All the weights of TFBertForQuestionAnswering were initialized from the model checkpoint at bert-large-uncased-whole-word-masking-finetuned-squad.\n",
            "If your task is similar to the task the model of the checkpoint was trained on, you can already use TFBertForQuestionAnswering for predictions without further training.\n"
          ],
          "name": "stderr"
        },
        {
          "output_type": "stream",
          "text": [
            "\n",
            "the swedish academy\n",
            "Press 1 to ask a question OR 0 to exit:0\n",
            "1. Enter source text\n",
            "2. Enter text file from Drive\n",
            "3. Enter text file from Github\n",
            "Enter 0 to exit\n",
            "Enter your choice: 2\n",
            "Mounted at /content/drive\n",
            "Enter text file path: /content/Nobel.txt\n",
            "Press 1 to ask a question OR 0 to exit:1\n",
            "Enter your query: Who awards the Nobel prize in Physics?\n"
          ],
          "name": "stdout"
        },
        {
          "output_type": "stream",
          "text": [
            "All model checkpoint weights were used when initializing TFBertForQuestionAnswering.\n",
            "\n",
            "All the weights of TFBertForQuestionAnswering were initialized from the model checkpoint at bert-large-uncased-whole-word-masking-finetuned-squad.\n",
            "If your task is similar to the task the model of the checkpoint was trained on, you can already use TFBertForQuestionAnswering for predictions without further training.\n"
          ],
          "name": "stderr"
        },
        {
          "output_type": "stream",
          "text": [
            "\n",
            "the royal swedish academy of sciences\n",
            "Press 1 to ask a question OR 0 to exit:0\n",
            "1. Enter source text\n",
            "2. Enter text file from Drive\n",
            "3. Enter text file from Github\n",
            "Enter 0 to exit\n",
            "Enter your choice: 0\n",
            "CHOOSE YOUR SOURCE CONTEXT\n",
            "1. Covid-19\n",
            "2. Google\n",
            "3. U.N.O.\n",
            "4. Sachin Tendulkar\n",
            "5. National Service Scheme\n",
            "Enter 6 to provide your own text source\n",
            "Enter 0 to exit choosing source context\n",
            "Enter your choice: 6\n",
            "1. Enter source text\n",
            "2. Enter text file from Drive\n",
            "3. Enter text file from Github\n",
            "Enter 0 to exit\n",
            "Enter your choice: 1\n",
            "Enter your context/source: The Royal Swedish Academy of Sciences awards the Nobel Prize in Chemistry, the Nobel Prize in Physics, and the Sveriges Riksbank Prize in Economic Sciences in Memory of Alfred  Nobel; the Nobel Assembly at the Karolinska Institute awards the Nobel Prize in Physiology or Medicine; the Swedish Academy grants the Nobel Prize in Literature; and the Norwegian  Nobel Committee awards the Nobel Peace Prize.\n",
            "Press 1 to ask a question OR 0 to exit:1\n",
            "Enter your query: Who awards the Nobel prize in Chemistry?\n"
          ],
          "name": "stdout"
        },
        {
          "output_type": "stream",
          "text": [
            "All model checkpoint weights were used when initializing TFBertForQuestionAnswering.\n",
            "\n",
            "All the weights of TFBertForQuestionAnswering were initialized from the model checkpoint at bert-large-uncased-whole-word-masking-finetuned-squad.\n",
            "If your task is similar to the task the model of the checkpoint was trained on, you can already use TFBertForQuestionAnswering for predictions without further training.\n"
          ],
          "name": "stderr"
        },
        {
          "output_type": "stream",
          "text": [
            "\n",
            "royal swedish academy of sciences\n",
            "Press 1 to ask a question OR 0 to exit:0\n",
            "1. Enter source text\n",
            "2. Enter text file from Drive\n",
            "3. Enter text file from Github\n",
            "Enter 0 to exit\n",
            "Enter your choice: 0\n",
            "CHOOSE YOUR SOURCE CONTEXT\n",
            "1. Covid-19\n",
            "2. Google\n",
            "3. U.N.O.\n",
            "4. Sachin Tendulkar\n",
            "5. National Service Scheme\n",
            "Enter 6 to provide your own text source\n",
            "Enter 0 to exit choosing source context\n",
            "Enter your choice: 0\n"
          ],
          "name": "stdout"
        }
      ]
    }
  ]
}